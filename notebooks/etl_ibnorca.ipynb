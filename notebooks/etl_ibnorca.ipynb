{
  "nbformat": 4,
  "nbformat_minor": 0,
  "metadata": {
    "colab": {
      "provenance": [],
      "authorship_tag": "ABX9TyPlFFhrzckYuWLYwQCSkg0K",
      "include_colab_link": true
    },
    "kernelspec": {
      "name": "python3",
      "display_name": "Python 3"
    },
    "language_info": {
      "name": "python"
    }
  },
  "cells": [
    {
      "cell_type": "markdown",
      "metadata": {
        "id": "view-in-github",
        "colab_type": "text"
      },
      "source": [
        "<a href=\"https://colab.research.google.com/github/marianomirabal/etl-ibnorca/blob/main/notebooks/etl_ibnorca.ipynb\" target=\"_parent\"><img src=\"https://colab.research.google.com/assets/colab-badge.svg\" alt=\"Open In Colab\"/></a>"
      ]
    },
    {
      "cell_type": "code",
      "execution_count": 30,
      "metadata": {
        "colab": {
          "base_uri": "https://localhost:8080/"
        },
        "id": "IpV-Tno_8N-k",
        "outputId": "8cf1f05e-89a7-4a2e-fbf2-4c5971d3dda0"
      },
      "outputs": [
        {
          "output_type": "stream",
          "name": "stdout",
          "text": [
            "Requirement already satisfied: pandas in /usr/local/lib/python3.11/dist-packages (2.2.2)\n",
            "Requirement already satisfied: openpyxl in /usr/local/lib/python3.11/dist-packages (3.1.5)\n",
            "Requirement already satisfied: sqlalchemy in /usr/local/lib/python3.11/dist-packages (2.0.41)\n",
            "Requirement already satisfied: numpy>=1.23.2 in /usr/local/lib/python3.11/dist-packages (from pandas) (2.0.2)\n",
            "Requirement already satisfied: python-dateutil>=2.8.2 in /usr/local/lib/python3.11/dist-packages (from pandas) (2.9.0.post0)\n",
            "Requirement already satisfied: pytz>=2020.1 in /usr/local/lib/python3.11/dist-packages (from pandas) (2025.2)\n",
            "Requirement already satisfied: tzdata>=2022.7 in /usr/local/lib/python3.11/dist-packages (from pandas) (2025.2)\n",
            "Requirement already satisfied: et-xmlfile in /usr/local/lib/python3.11/dist-packages (from openpyxl) (2.0.0)\n",
            "Requirement already satisfied: greenlet>=1 in /usr/local/lib/python3.11/dist-packages (from sqlalchemy) (3.2.3)\n",
            "Requirement already satisfied: typing-extensions>=4.6.0 in /usr/local/lib/python3.11/dist-packages (from sqlalchemy) (4.14.1)\n",
            "Requirement already satisfied: six>=1.5 in /usr/local/lib/python3.11/dist-packages (from python-dateutil>=2.8.2->pandas) (1.17.0)\n",
            "Leídas 1660 filas y 3 columnas.\n",
            "              Column1_razon_social Tipo de persona\n",
            "0                             CAPO         Persona\n",
            "1                          SALINAS         Persona\n",
            "2   ALCIDES GUZMAN AYAVIRI AYAVIRI         Persona\n",
            "3            Altavista Group S.R.L         Empresa\n",
            "4                             AYMA         Persona\n",
            "Tablas en SQLite: ['clientes_limpios']\n"
          ]
        }
      ],
      "source": [
        "# 1) Instala dependencias (solo la primera vez)\n",
        "!pip install pandas openpyxl sqlalchemy\n",
        "\n",
        "import pandas as pd\n",
        "from sqlalchemy import create_engine\n",
        "\n",
        "# 2) EXTRACT\n",
        "# (antes de correrlo, sube tu Excel manualmente al entorno: panel izquierdo 📁 → subir archivo)\n",
        "df_raw = pd.read_excel('/content/Clientes_faltantes.xlsx')\n",
        "print(\"Leídas\", df_raw.shape[0], \"filas y\", df_raw.shape[1], \"columnas.\")\n",
        "\n",
        "# 3) TRANSFORM\n",
        "df = df_raw.copy()\n",
        "df.columns = (\n",
        "    df.columns\n",
        "      .str.strip()\n",
        "      .str.replace(r'\\.+','_',regex=True)\n",
        "      .str.replace(r'\\s+','_',regex=True)\n",
        ")\n",
        "keywords = ['SRL','S.R.L.', 'S.R.L','SRL.','S R L.','R.L','RL.','S.A','S.A.','SA.','LTDA','LTDA.', 'CORPORACIÓN','COOPERATIVA','GRUPO','SOCIEDAD DE RESPONSABILIDAD LIMITADA','LIMITADA','ASOCIACION','ASOCIACIÓN','BANCO','CLUB',]\n",
        "df['Tipo de persona'] = df['Column1_razon_social'].apply(\n",
        "    lambda x: 'Empresa' if any(k in str(x).upper() for k in keywords) else 'Persona'\n",
        ")\n",
        "print(df[['Column1_razon_social','Tipo de persona']].head())\n",
        "\n",
        "# 4) LOAD\n",
        "engine = create_engine('sqlite:///clientes_ibnorca.db')\n",
        "df.to_sql('clientes_limpios', engine, if_exists='replace', index=False)\n",
        "from sqlalchemy import inspect\n",
        "inspector = inspect(engine)\n",
        "print(\"Tablas en SQLite:\", inspector.get_table_names())"
      ]
    },
    {
      "cell_type": "code",
      "source": [
        "# Primero definimos la función\n",
        "def adivinar_sector(nombre):\n",
        "    nombre = str(nombre).lower()\n",
        "    if any(palabra in nombre for palabra in [\"hospital\", \"clínica\", \"med\", \"salud\", \"bio\", \"farma\", \"laboratorio\",\"laboratorios\",\"lab\",\"pharma\"]):\n",
        "        return \"SALUD\"\n",
        "    elif any(palabra in nombre for palabra in [\"seguridad\", \"safety\", \"riesgo\", \"osha\"]):\n",
        "        return \"SEGURIDAD OCUPACIONAL\"\n",
        "    elif any(palabra in nombre for palabra in [\"minera\", \"mining\"]):\n",
        "        return \"MINERÍA\"\n",
        "    elif any(palabra in nombre for palabra in [\"ingeniería\", \"mecánica\", \"industrial\"]):\n",
        "        return \"MECÁNICA\"\n",
        "    elif any(palabra in nombre for palabra in [\"construct\", \"construcciones\", \"obras\", \"infra\", \"arquitect\",\"soboce\"]):\n",
        "        return \"CONSTRUCCIÓN\"\n",
        "    elif any(palabra in nombre for palabra in [\"agro\", \"alimentos\", \"granja\", \"avícola\", \"leche\", \"lácteo\", \"cárnico\",\"imba\",\"kral\",\"cereal\",\"cerveza\",\"cervecería\",\"food\"]):\n",
        "        return \"AGROPECUARIO, AGRÍCOLA Y ALIMENTOS\"\n",
        "    elif any(palabra in nombre for palabra in [\"gas\", \"petrol\", \"glp\", \"combustible\",\"hidrocarburos\",\"surtidor\"]):\n",
        "        return \"HIDROCARBUROS\"\n",
        "    elif any(palabra in nombre for palabra in [\"energía\", \"eléctrica\", \"solar\", \"hidroeléctrica\",\"electrificacion\",\"electrificación\",\"energy\"]):\n",
        "        return \"ENERGÍA\"\n",
        "    elif any(palabra in nombre for palabra in [\"agua\", \"medio ambiente\", \"ambiental\", \"ecología\"]):\n",
        "        return \"MEDIO AMBIENTE Y AGUA\"\n",
        "    elif any(palabra in nombre for palabra in [\"transporte\", \"logística\", \"shipping\", \"envío\"]):\n",
        "        return \"TRANSPORTE\"\n",
        "    elif any(palabra in nombre for palabra in [\"sistemas\", \"software\", \"informática\", \"tecnología\",\"tech\",\"techno\"]):\n",
        "        return \"TECNOLOGÍAS DE LA INFORMACIÓN Y COMUNICACIÓN\"\n",
        "    elif any(palabra in nombre for palabra in [\"norma\", \"certifica\", \"ibnorca\", \"calidad\", \"iso\"]):\n",
        "        return \"INFRAESTRUCTURA DE LA CALIDAD\"\n",
        "    elif any(palabra in nombre for palabra in [\"industria\", \"fábrica\", \"producción\"]):\n",
        "        return \"INDUSTRIA\"\n",
        "    elif any(palabra in nombre for palabra in [\"hogar\", \"doméstico\", \"electrodoméstico\", \"mueble\"]):\n",
        "        return \"EQUIPAMIENTO DOMÉSTICO Y COMERCIAL\"\n",
        "    elif any(palabra in nombre for palabra in [\"servicio\", \"consult\", \"asesor\",\"seguro\",\"seguros\"]):\n",
        "        return \"SERVICIOS\"\n",
        "    else:\n",
        "        return \"SERVICIOS\"  # Por defecto si no se puede adivinar\n",
        "\n",
        "# Ahora aplicamos la función solo a filas donde Tipo de persona es Empresa\n",
        "df.loc[df[\"Tipo de persona\"] == \"Empresa\", \"Sector Empresarial\"] = df.loc[\n",
        "    df[\"Tipo de persona\"] == \"Empresa\", \"Column1_razon_social\"\n",
        "].apply(adivinar_sector)"
      ],
      "metadata": {
        "id": "MSy1I-qWb44m"
      },
      "execution_count": 31,
      "outputs": []
    },
    {
      "cell_type": "code",
      "source": [
        "df.to_excel(\"empresas_actualizado.xlsx\", index=False)\n"
      ],
      "metadata": {
        "id": "LnRIXWUPcXsA"
      },
      "execution_count": 32,
      "outputs": []
    }
  ]
}