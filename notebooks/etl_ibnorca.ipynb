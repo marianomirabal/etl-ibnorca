{
  "nbformat": 4,
  "nbformat_minor": 0,
  "metadata": {
    "colab": {
      "provenance": [],
      "authorship_tag": "ABX9TyPu8jSzUL/j/9p7NRmMLCrJ",
      "include_colab_link": true
    },
    "kernelspec": {
      "name": "python3",
      "display_name": "Python 3"
    },
    "language_info": {
      "name": "python"
    }
  },
  "cells": [
    {
      "cell_type": "markdown",
      "metadata": {
        "id": "view-in-github",
        "colab_type": "text"
      },
      "source": [
        "<a href=\"https://colab.research.google.com/github/marianomirabal/etl-ibnorca/blob/main/notebooks/etl_ibnorca.ipynb\" target=\"_parent\"><img src=\"https://colab.research.google.com/assets/colab-badge.svg\" alt=\"Open In Colab\"/></a>"
      ]
    },
    {
      "cell_type": "code",
      "execution_count": null,
      "metadata": {
        "colab": {
          "base_uri": "https://localhost:8080/"
        },
        "id": "IpV-Tno_8N-k",
        "outputId": "7d49bf45-f660-4e44-d8a8-e5b16a9d32c7"
      },
      "outputs": [
        {
          "output_type": "stream",
          "name": "stdout",
          "text": [
            "Requirement already satisfied: pandas in /usr/local/lib/python3.11/dist-packages (2.2.2)\n",
            "Requirement already satisfied: openpyxl in /usr/local/lib/python3.11/dist-packages (3.1.5)\n",
            "Requirement already satisfied: sqlalchemy in /usr/local/lib/python3.11/dist-packages (2.0.41)\n",
            "Requirement already satisfied: numpy>=1.23.2 in /usr/local/lib/python3.11/dist-packages (from pandas) (2.0.2)\n",
            "Requirement already satisfied: python-dateutil>=2.8.2 in /usr/local/lib/python3.11/dist-packages (from pandas) (2.9.0.post0)\n",
            "Requirement already satisfied: pytz>=2020.1 in /usr/local/lib/python3.11/dist-packages (from pandas) (2025.2)\n",
            "Requirement already satisfied: tzdata>=2022.7 in /usr/local/lib/python3.11/dist-packages (from pandas) (2025.2)\n",
            "Requirement already satisfied: et-xmlfile in /usr/local/lib/python3.11/dist-packages (from openpyxl) (2.0.0)\n",
            "Requirement already satisfied: greenlet>=1 in /usr/local/lib/python3.11/dist-packages (from sqlalchemy) (3.2.3)\n",
            "Requirement already satisfied: typing-extensions>=4.6.0 in /usr/local/lib/python3.11/dist-packages (from sqlalchemy) (4.14.1)\n",
            "Requirement already satisfied: six>=1.5 in /usr/local/lib/python3.11/dist-packages (from python-dateutil>=2.8.2->pandas) (1.17.0)\n",
            "Leídas 1660 filas y 10 columnas.\n",
            "              Column1_razon_social TipoCliente\n",
            "0                             CAPO     Persona\n",
            "1                          SALINAS     Empresa\n",
            "2   ALCIDES GUZMAN AYAVIRI AYAVIRI     Persona\n",
            "3            Altavista Group S.R.L     Empresa\n",
            "4                             AYMA     Persona\n",
            "Tablas en SQLite: ['clientes_limpios']\n"
          ]
        }
      ],
      "source": [
        "# 1) Instala dependencias (solo la primera vez)\n",
        "!pip install pandas openpyxl sqlalchemy\n",
        "\n",
        "import pandas as pd\n",
        "from sqlalchemy import create_engine\n",
        "\n",
        "# 2) EXTRACT\n",
        "# (antes de correrlo, sube tu Excel manualmente al entorno: panel izquierdo 📁 → subir archivo)\n",
        "df_raw = pd.read_excel('/content/Clientes_faltantes1.xlsx')\n",
        "print(\"Leídas\", df_raw.shape[0], \"filas y\", df_raw.shape[1], \"columnas.\")\n",
        "\n",
        "# 3) TRANSFORM\n",
        "df = df_raw.copy()\n",
        "df.columns = (\n",
        "    df.columns\n",
        "      .str.strip()\n",
        "      .str.replace(r'\\.+','_',regex=True)\n",
        "      .str.replace(r'\\s+','_',regex=True)\n",
        ")\n",
        "keywords = ['SRL','S.R.L.', 'S.R.L','SRL.','S.A','S.A.','SA','LTDA','CORPORACIÓN','COOPERATIVA','GRUPO']\n",
        "df['TipoCliente'] = df['Column1_razon_social'].apply(\n",
        "    lambda x: 'Empresa' if any(k in str(x).upper() for k in keywords) else 'Persona'\n",
        ")\n",
        "print(df[['Column1_razon_social','TipoCliente']].head())\n",
        "\n",
        "# 4) LOAD\n",
        "engine = create_engine('sqlite:///clientes_ibnorca.db')\n",
        "df.to_sql('clientes_limpios', engine, if_exists='replace', index=False)\n",
        "from sqlalchemy import inspect\n",
        "inspector = inspect(engine)\n",
        "print(\"Tablas en SQLite:\", inspector.get_table_names())"
      ]
    }
  ]
}